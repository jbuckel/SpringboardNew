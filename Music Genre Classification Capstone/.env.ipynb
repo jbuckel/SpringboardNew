{
 "cells": [
  {
   "cell_type": "code",
   "execution_count": 1,
   "id": "93c89571",
   "metadata": {},
   "outputs": [],
   "source": [
    "CLIENT_ID = '1e32ffea57d045c4b54f69afd6b5c75e'\n",
    "CLIENT_SECRET = 'd7a960ca60554db0ba6fec83d4e60b31'"
   ]
  },
  {
   "cell_type": "code",
   "execution_count": null,
   "id": "48553250",
   "metadata": {},
   "outputs": [],
   "source": []
  }
 ],
 "metadata": {
  "kernelspec": {
   "display_name": "Python 3 (ipykernel)",
   "language": "python",
   "name": "python3"
  },
  "language_info": {
   "codemirror_mode": {
    "name": "ipython",
    "version": 3
   },
   "file_extension": ".py",
   "mimetype": "text/x-python",
   "name": "python",
   "nbconvert_exporter": "python",
   "pygments_lexer": "ipython3",
   "version": "3.9.12"
  }
 },
 "nbformat": 4,
 "nbformat_minor": 5
}
