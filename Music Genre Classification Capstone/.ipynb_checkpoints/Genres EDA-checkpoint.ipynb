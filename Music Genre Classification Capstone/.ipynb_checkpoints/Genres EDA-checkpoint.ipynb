{
 "cells": [
  {
   "cell_type": "markdown",
   "id": "58ac5deb",
   "metadata": {},
   "source": [
    "We continue our genre classification project by exploring our dataset, variables, and relationships we can find. Let's get started!"
   ]
  },
  {
   "cell_type": "code",
   "execution_count": 2,
   "id": "39052857",
   "metadata": {},
   "outputs": [
    {
     "ename": "ModuleNotFoundError",
     "evalue": "No module named 'library'",
     "output_type": "error",
     "traceback": [
      "\u001b[1;31m---------------------------------------------------------------------------\u001b[0m",
      "\u001b[1;31mModuleNotFoundError\u001b[0m                       Traceback (most recent call last)",
      "Input \u001b[1;32mIn [2]\u001b[0m, in \u001b[0;36m<cell line: 10>\u001b[1;34m()\u001b[0m\n\u001b[0;32m      7\u001b[0m \u001b[38;5;28;01mfrom\u001b[39;00m \u001b[38;5;21;01msklearn\u001b[39;00m\u001b[38;5;21;01m.\u001b[39;00m\u001b[38;5;21;01mdecomposition\u001b[39;00m \u001b[38;5;28;01mimport\u001b[39;00m PCA\n\u001b[0;32m      8\u001b[0m \u001b[38;5;28;01mfrom\u001b[39;00m \u001b[38;5;21;01msklearn\u001b[39;00m\u001b[38;5;21;01m.\u001b[39;00m\u001b[38;5;21;01mpreprocessing\u001b[39;00m \u001b[38;5;28;01mimport\u001b[39;00m scale\n\u001b[1;32m---> 10\u001b[0m \u001b[38;5;28;01mfrom\u001b[39;00m \u001b[38;5;21;01mlibrary\u001b[39;00m\u001b[38;5;21;01m.\u001b[39;00m\u001b[38;5;21;01msb_utils\u001b[39;00m \u001b[38;5;28;01mimport\u001b[39;00m save_file\n",
      "\u001b[1;31mModuleNotFoundError\u001b[0m: No module named 'library'"
     ]
    }
   ],
   "source": [
    "import numpy as np\n",
    "import pandas as pd\n",
    "import matplotlib.pyplot as plt\n",
    "\n",
    "import os\n",
    "import seaborn as sns\n",
    "from sklearn.decomposition import PCA\n",
    "from sklearn.preprocessing import scale\n",
    "\n",
    "from library.sb_utils import save_file"
   ]
  },
  {
   "cell_type": "code",
   "execution_count": 24,
   "id": "23228044",
   "metadata": {},
   "outputs": [
    {
     "data": {
      "text/html": [
       "<div>\n",
       "<style scoped>\n",
       "    .dataframe tbody tr th:only-of-type {\n",
       "        vertical-align: middle;\n",
       "    }\n",
       "\n",
       "    .dataframe tbody tr th {\n",
       "        vertical-align: top;\n",
       "    }\n",
       "\n",
       "    .dataframe thead th {\n",
       "        text-align: right;\n",
       "    }\n",
       "</style>\n",
       "<table border=\"1\" class=\"dataframe\">\n",
       "  <thead>\n",
       "    <tr style=\"text-align: right;\">\n",
       "      <th></th>\n",
       "      <th>song_name</th>\n",
       "      <th>danceability</th>\n",
       "      <th>energy</th>\n",
       "      <th>key</th>\n",
       "      <th>loudness</th>\n",
       "      <th>mode</th>\n",
       "      <th>speechiness</th>\n",
       "      <th>acousticness</th>\n",
       "      <th>instrumentalness</th>\n",
       "      <th>liveness</th>\n",
       "      <th>valence</th>\n",
       "      <th>tempo</th>\n",
       "      <th>duration_ms</th>\n",
       "      <th>Genre</th>\n",
       "    </tr>\n",
       "  </thead>\n",
       "  <tbody>\n",
       "    <tr>\n",
       "      <th>0</th>\n",
       "      <td>Ferrari</td>\n",
       "      <td>0.844</td>\n",
       "      <td>0.688</td>\n",
       "      <td>1</td>\n",
       "      <td>26.121</td>\n",
       "      <td>0</td>\n",
       "      <td>0.0490</td>\n",
       "      <td>0.01290</td>\n",
       "      <td>0.000054</td>\n",
       "      <td>0.0492</td>\n",
       "      <td>0.695</td>\n",
       "      <td>124.992</td>\n",
       "      <td>185662</td>\n",
       "      <td>House</td>\n",
       "    </tr>\n",
       "    <tr>\n",
       "      <th>1</th>\n",
       "      <td>Baby Don't Hurt Me</td>\n",
       "      <td>0.602</td>\n",
       "      <td>0.910</td>\n",
       "      <td>7</td>\n",
       "      <td>30.596</td>\n",
       "      <td>1</td>\n",
       "      <td>0.0308</td>\n",
       "      <td>0.00126</td>\n",
       "      <td>0.000174</td>\n",
       "      <td>0.1200</td>\n",
       "      <td>0.228</td>\n",
       "      <td>127.944</td>\n",
       "      <td>140018</td>\n",
       "      <td>House</td>\n",
       "    </tr>\n",
       "    <tr>\n",
       "      <th>2</th>\n",
       "      <td>Miss You</td>\n",
       "      <td>0.587</td>\n",
       "      <td>0.742</td>\n",
       "      <td>6</td>\n",
       "      <td>27.360</td>\n",
       "      <td>0</td>\n",
       "      <td>0.0529</td>\n",
       "      <td>0.01280</td>\n",
       "      <td>0.001070</td>\n",
       "      <td>0.1460</td>\n",
       "      <td>0.199</td>\n",
       "      <td>145.007</td>\n",
       "      <td>206000</td>\n",
       "      <td>House</td>\n",
       "    </tr>\n",
       "    <tr>\n",
       "      <th>3</th>\n",
       "      <td>I'm Good (Blue)</td>\n",
       "      <td>0.561</td>\n",
       "      <td>0.965</td>\n",
       "      <td>7</td>\n",
       "      <td>30.327</td>\n",
       "      <td>0</td>\n",
       "      <td>0.0343</td>\n",
       "      <td>0.00383</td>\n",
       "      <td>0.000007</td>\n",
       "      <td>0.3710</td>\n",
       "      <td>0.304</td>\n",
       "      <td>128.040</td>\n",
       "      <td>175238</td>\n",
       "      <td>House</td>\n",
       "    </tr>\n",
       "    <tr>\n",
       "      <th>4</th>\n",
       "      <td>The Motto</td>\n",
       "      <td>0.754</td>\n",
       "      <td>0.763</td>\n",
       "      <td>7</td>\n",
       "      <td>29.373</td>\n",
       "      <td>0</td>\n",
       "      <td>0.0435</td>\n",
       "      <td>0.03010</td>\n",
       "      <td>0.000022</td>\n",
       "      <td>0.0901</td>\n",
       "      <td>0.464</td>\n",
       "      <td>117.953</td>\n",
       "      <td>164819</td>\n",
       "      <td>House</td>\n",
       "    </tr>\n",
       "  </tbody>\n",
       "</table>\n",
       "</div>"
      ],
      "text/plain": [
       "            song_name  danceability  energy  key  loudness  mode  speechiness  \\\n",
       "0             Ferrari         0.844   0.688    1    26.121     0       0.0490   \n",
       "1  Baby Don't Hurt Me         0.602   0.910    7    30.596     1       0.0308   \n",
       "2            Miss You         0.587   0.742    6    27.360     0       0.0529   \n",
       "3     I'm Good (Blue)         0.561   0.965    7    30.327     0       0.0343   \n",
       "4           The Motto         0.754   0.763    7    29.373     0       0.0435   \n",
       "\n",
       "   acousticness  instrumentalness  liveness  valence    tempo  duration_ms  \\\n",
       "0       0.01290          0.000054    0.0492    0.695  124.992       185662   \n",
       "1       0.00126          0.000174    0.1200    0.228  127.944       140018   \n",
       "2       0.01280          0.001070    0.1460    0.199  145.007       206000   \n",
       "3       0.00383          0.000007    0.3710    0.304  128.040       175238   \n",
       "4       0.03010          0.000022    0.0901    0.464  117.953       164819   \n",
       "\n",
       "   Genre  \n",
       "0  House  \n",
       "1  House  \n",
       "2  House  \n",
       "3  House  \n",
       "4  House  "
      ]
     },
     "execution_count": 24,
     "metadata": {},
     "output_type": "execute_result"
    }
   ],
   "source": [
    "song_data = pd.read_csv('~/Documents/SpringboardNew/song_data2.csv')\n",
    "song_data.head()"
   ]
  },
  {
   "cell_type": "code",
   "execution_count": 25,
   "id": "d74c9929",
   "metadata": {},
   "outputs": [
    {
     "name": "stdout",
     "output_type": "stream",
     "text": [
      "<class 'pandas.core.frame.DataFrame'>\n",
      "RangeIndex: 400 entries, 0 to 399\n",
      "Data columns (total 14 columns):\n",
      " #   Column            Non-Null Count  Dtype  \n",
      "---  ------            --------------  -----  \n",
      " 0   song_name         400 non-null    object \n",
      " 1   danceability      400 non-null    float64\n",
      " 2   energy            400 non-null    float64\n",
      " 3   key               400 non-null    int64  \n",
      " 4   loudness          400 non-null    float64\n",
      " 5   mode              400 non-null    int64  \n",
      " 6   speechiness       400 non-null    float64\n",
      " 7   acousticness      400 non-null    float64\n",
      " 8   instrumentalness  400 non-null    float64\n",
      " 9   liveness          400 non-null    float64\n",
      " 10  valence           400 non-null    float64\n",
      " 11  tempo             400 non-null    float64\n",
      " 12  duration_ms       400 non-null    int64  \n",
      " 13  Genre             400 non-null    object \n",
      "dtypes: float64(9), int64(3), object(2)\n",
      "memory usage: 43.9+ KB\n"
     ]
    }
   ],
   "source": [
    "song_data.info()"
   ]
  },
  {
   "cell_type": "code",
   "execution_count": 26,
   "id": "1092a2a0",
   "metadata": {},
   "outputs": [
    {
     "data": {
      "text/html": [
       "<div>\n",
       "<style scoped>\n",
       "    .dataframe tbody tr th:only-of-type {\n",
       "        vertical-align: middle;\n",
       "    }\n",
       "\n",
       "    .dataframe tbody tr th {\n",
       "        vertical-align: top;\n",
       "    }\n",
       "\n",
       "    .dataframe thead th {\n",
       "        text-align: right;\n",
       "    }\n",
       "</style>\n",
       "<table border=\"1\" class=\"dataframe\">\n",
       "  <thead>\n",
       "    <tr style=\"text-align: right;\">\n",
       "      <th></th>\n",
       "      <th>danceability</th>\n",
       "      <th>energy</th>\n",
       "      <th>key</th>\n",
       "      <th>loudness</th>\n",
       "      <th>mode</th>\n",
       "      <th>speechiness</th>\n",
       "      <th>acousticness</th>\n",
       "      <th>instrumentalness</th>\n",
       "      <th>liveness</th>\n",
       "      <th>valence</th>\n",
       "      <th>tempo</th>\n",
       "      <th>duration_ms</th>\n",
       "    </tr>\n",
       "  </thead>\n",
       "  <tbody>\n",
       "    <tr>\n",
       "      <th>count</th>\n",
       "      <td>400.000000</td>\n",
       "      <td>400.000000</td>\n",
       "      <td>400.000000</td>\n",
       "      <td>400.000000</td>\n",
       "      <td>400.00000</td>\n",
       "      <td>400.000000</td>\n",
       "      <td>400.000000</td>\n",
       "      <td>400.000000</td>\n",
       "      <td>400.000000</td>\n",
       "      <td>400.000000</td>\n",
       "      <td>400.000000</td>\n",
       "      <td>400.000000</td>\n",
       "    </tr>\n",
       "    <tr>\n",
       "      <th>mean</th>\n",
       "      <td>0.618153</td>\n",
       "      <td>0.805326</td>\n",
       "      <td>5.627500</td>\n",
       "      <td>27.402418</td>\n",
       "      <td>0.50750</td>\n",
       "      <td>0.089439</td>\n",
       "      <td>0.109667</td>\n",
       "      <td>0.403297</td>\n",
       "      <td>0.210025</td>\n",
       "      <td>0.356754</td>\n",
       "      <td>128.788302</td>\n",
       "      <td>233788.350000</td>\n",
       "    </tr>\n",
       "    <tr>\n",
       "      <th>std</th>\n",
       "      <td>0.139075</td>\n",
       "      <td>0.169920</td>\n",
       "      <td>3.567992</td>\n",
       "      <td>4.025589</td>\n",
       "      <td>0.50057</td>\n",
       "      <td>0.088676</td>\n",
       "      <td>0.214185</td>\n",
       "      <td>0.393832</td>\n",
       "      <td>0.165129</td>\n",
       "      <td>0.239077</td>\n",
       "      <td>22.353645</td>\n",
       "      <td>88106.124875</td>\n",
       "    </tr>\n",
       "    <tr>\n",
       "      <th>min</th>\n",
       "      <td>0.000000</td>\n",
       "      <td>0.008980</td>\n",
       "      <td>0.000000</td>\n",
       "      <td>1.797000</td>\n",
       "      <td>0.00000</td>\n",
       "      <td>0.000000</td>\n",
       "      <td>0.000004</td>\n",
       "      <td>0.000000</td>\n",
       "      <td>0.037400</td>\n",
       "      <td>0.000000</td>\n",
       "      <td>52.581000</td>\n",
       "      <td>37627.000000</td>\n",
       "    </tr>\n",
       "    <tr>\n",
       "      <th>25%</th>\n",
       "      <td>0.537500</td>\n",
       "      <td>0.730750</td>\n",
       "      <td>2.000000</td>\n",
       "      <td>25.668000</td>\n",
       "      <td>0.00000</td>\n",
       "      <td>0.040675</td>\n",
       "      <td>0.002570</td>\n",
       "      <td>0.000895</td>\n",
       "      <td>0.098525</td>\n",
       "      <td>0.153500</td>\n",
       "      <td>121.965500</td>\n",
       "      <td>177003.250000</td>\n",
       "    </tr>\n",
       "    <tr>\n",
       "      <th>50%</th>\n",
       "      <td>0.622500</td>\n",
       "      <td>0.857500</td>\n",
       "      <td>6.000000</td>\n",
       "      <td>27.976000</td>\n",
       "      <td>1.00000</td>\n",
       "      <td>0.056300</td>\n",
       "      <td>0.019750</td>\n",
       "      <td>0.284500</td>\n",
       "      <td>0.137000</td>\n",
       "      <td>0.330500</td>\n",
       "      <td>129.982000</td>\n",
       "      <td>220482.000000</td>\n",
       "    </tr>\n",
       "    <tr>\n",
       "      <th>75%</th>\n",
       "      <td>0.713250</td>\n",
       "      <td>0.929250</td>\n",
       "      <td>9.000000</td>\n",
       "      <td>29.714500</td>\n",
       "      <td>1.00000</td>\n",
       "      <td>0.096525</td>\n",
       "      <td>0.077925</td>\n",
       "      <td>0.834000</td>\n",
       "      <td>0.276500</td>\n",
       "      <td>0.532500</td>\n",
       "      <td>138.009000</td>\n",
       "      <td>275703.250000</td>\n",
       "    </tr>\n",
       "    <tr>\n",
       "      <th>max</th>\n",
       "      <td>0.950000</td>\n",
       "      <td>0.998000</td>\n",
       "      <td>11.000000</td>\n",
       "      <td>36.185000</td>\n",
       "      <td>1.00000</td>\n",
       "      <td>0.662000</td>\n",
       "      <td>0.995000</td>\n",
       "      <td>0.978000</td>\n",
       "      <td>0.932000</td>\n",
       "      <td>0.969000</td>\n",
       "      <td>200.034000</td>\n",
       "      <td>584586.000000</td>\n",
       "    </tr>\n",
       "  </tbody>\n",
       "</table>\n",
       "</div>"
      ],
      "text/plain": [
       "       danceability      energy         key    loudness       mode  \\\n",
       "count    400.000000  400.000000  400.000000  400.000000  400.00000   \n",
       "mean       0.618153    0.805326    5.627500   27.402418    0.50750   \n",
       "std        0.139075    0.169920    3.567992    4.025589    0.50057   \n",
       "min        0.000000    0.008980    0.000000    1.797000    0.00000   \n",
       "25%        0.537500    0.730750    2.000000   25.668000    0.00000   \n",
       "50%        0.622500    0.857500    6.000000   27.976000    1.00000   \n",
       "75%        0.713250    0.929250    9.000000   29.714500    1.00000   \n",
       "max        0.950000    0.998000   11.000000   36.185000    1.00000   \n",
       "\n",
       "       speechiness  acousticness  instrumentalness    liveness     valence  \\\n",
       "count   400.000000    400.000000        400.000000  400.000000  400.000000   \n",
       "mean      0.089439      0.109667          0.403297    0.210025    0.356754   \n",
       "std       0.088676      0.214185          0.393832    0.165129    0.239077   \n",
       "min       0.000000      0.000004          0.000000    0.037400    0.000000   \n",
       "25%       0.040675      0.002570          0.000895    0.098525    0.153500   \n",
       "50%       0.056300      0.019750          0.284500    0.137000    0.330500   \n",
       "75%       0.096525      0.077925          0.834000    0.276500    0.532500   \n",
       "max       0.662000      0.995000          0.978000    0.932000    0.969000   \n",
       "\n",
       "            tempo    duration_ms  \n",
       "count  400.000000     400.000000  \n",
       "mean   128.788302  233788.350000  \n",
       "std     22.353645   88106.124875  \n",
       "min     52.581000   37627.000000  \n",
       "25%    121.965500  177003.250000  \n",
       "50%    129.982000  220482.000000  \n",
       "75%    138.009000  275703.250000  \n",
       "max    200.034000  584586.000000  "
      ]
     },
     "execution_count": 26,
     "metadata": {},
     "output_type": "execute_result"
    }
   ],
   "source": [
    "song_data.describe()"
   ]
  },
  {
   "cell_type": "markdown",
   "id": "a541e438",
   "metadata": {},
   "source": [
    "Let's go ahead and drop the song_name column for now."
   ]
  },
  {
   "cell_type": "code",
   "execution_count": 27,
   "id": "cc1e1551",
   "metadata": {},
   "outputs": [],
   "source": [
    "song_data = song_data.drop('song_name', axis=1)"
   ]
  },
  {
   "cell_type": "code",
   "execution_count": 28,
   "id": "73df4643",
   "metadata": {},
   "outputs": [
    {
     "data": {
      "text/html": [
       "<div>\n",
       "<style scoped>\n",
       "    .dataframe tbody tr th:only-of-type {\n",
       "        vertical-align: middle;\n",
       "    }\n",
       "\n",
       "    .dataframe tbody tr th {\n",
       "        vertical-align: top;\n",
       "    }\n",
       "\n",
       "    .dataframe thead th {\n",
       "        text-align: right;\n",
       "    }\n",
       "</style>\n",
       "<table border=\"1\" class=\"dataframe\">\n",
       "  <thead>\n",
       "    <tr style=\"text-align: right;\">\n",
       "      <th></th>\n",
       "      <th>danceability</th>\n",
       "      <th>energy</th>\n",
       "      <th>key</th>\n",
       "      <th>loudness</th>\n",
       "      <th>mode</th>\n",
       "      <th>speechiness</th>\n",
       "      <th>acousticness</th>\n",
       "      <th>instrumentalness</th>\n",
       "      <th>liveness</th>\n",
       "      <th>valence</th>\n",
       "      <th>tempo</th>\n",
       "      <th>duration_ms</th>\n",
       "      <th>Genre</th>\n",
       "    </tr>\n",
       "  </thead>\n",
       "  <tbody>\n",
       "    <tr>\n",
       "      <th>0</th>\n",
       "      <td>0.844</td>\n",
       "      <td>0.688</td>\n",
       "      <td>1</td>\n",
       "      <td>26.121</td>\n",
       "      <td>0</td>\n",
       "      <td>0.0490</td>\n",
       "      <td>0.01290</td>\n",
       "      <td>0.000054</td>\n",
       "      <td>0.0492</td>\n",
       "      <td>0.695</td>\n",
       "      <td>124.992</td>\n",
       "      <td>185662</td>\n",
       "      <td>House</td>\n",
       "    </tr>\n",
       "    <tr>\n",
       "      <th>1</th>\n",
       "      <td>0.602</td>\n",
       "      <td>0.910</td>\n",
       "      <td>7</td>\n",
       "      <td>30.596</td>\n",
       "      <td>1</td>\n",
       "      <td>0.0308</td>\n",
       "      <td>0.00126</td>\n",
       "      <td>0.000174</td>\n",
       "      <td>0.1200</td>\n",
       "      <td>0.228</td>\n",
       "      <td>127.944</td>\n",
       "      <td>140018</td>\n",
       "      <td>House</td>\n",
       "    </tr>\n",
       "    <tr>\n",
       "      <th>2</th>\n",
       "      <td>0.587</td>\n",
       "      <td>0.742</td>\n",
       "      <td>6</td>\n",
       "      <td>27.360</td>\n",
       "      <td>0</td>\n",
       "      <td>0.0529</td>\n",
       "      <td>0.01280</td>\n",
       "      <td>0.001070</td>\n",
       "      <td>0.1460</td>\n",
       "      <td>0.199</td>\n",
       "      <td>145.007</td>\n",
       "      <td>206000</td>\n",
       "      <td>House</td>\n",
       "    </tr>\n",
       "    <tr>\n",
       "      <th>3</th>\n",
       "      <td>0.561</td>\n",
       "      <td>0.965</td>\n",
       "      <td>7</td>\n",
       "      <td>30.327</td>\n",
       "      <td>0</td>\n",
       "      <td>0.0343</td>\n",
       "      <td>0.00383</td>\n",
       "      <td>0.000007</td>\n",
       "      <td>0.3710</td>\n",
       "      <td>0.304</td>\n",
       "      <td>128.040</td>\n",
       "      <td>175238</td>\n",
       "      <td>House</td>\n",
       "    </tr>\n",
       "    <tr>\n",
       "      <th>4</th>\n",
       "      <td>0.754</td>\n",
       "      <td>0.763</td>\n",
       "      <td>7</td>\n",
       "      <td>29.373</td>\n",
       "      <td>0</td>\n",
       "      <td>0.0435</td>\n",
       "      <td>0.03010</td>\n",
       "      <td>0.000022</td>\n",
       "      <td>0.0901</td>\n",
       "      <td>0.464</td>\n",
       "      <td>117.953</td>\n",
       "      <td>164819</td>\n",
       "      <td>House</td>\n",
       "    </tr>\n",
       "  </tbody>\n",
       "</table>\n",
       "</div>"
      ],
      "text/plain": [
       "   danceability  energy  key  loudness  mode  speechiness  acousticness  \\\n",
       "0         0.844   0.688    1    26.121     0       0.0490       0.01290   \n",
       "1         0.602   0.910    7    30.596     1       0.0308       0.00126   \n",
       "2         0.587   0.742    6    27.360     0       0.0529       0.01280   \n",
       "3         0.561   0.965    7    30.327     0       0.0343       0.00383   \n",
       "4         0.754   0.763    7    29.373     0       0.0435       0.03010   \n",
       "\n",
       "   instrumentalness  liveness  valence    tempo  duration_ms  Genre  \n",
       "0          0.000054    0.0492    0.695  124.992       185662  House  \n",
       "1          0.000174    0.1200    0.228  127.944       140018  House  \n",
       "2          0.001070    0.1460    0.199  145.007       206000  House  \n",
       "3          0.000007    0.3710    0.304  128.040       175238  House  \n",
       "4          0.000022    0.0901    0.464  117.953       164819  House  "
      ]
     },
     "execution_count": 28,
     "metadata": {},
     "output_type": "execute_result"
    }
   ],
   "source": [
    "song_data.head()"
   ]
  },
  {
   "cell_type": "code",
   "execution_count": 234,
   "id": "3c71ec7a",
   "metadata": {},
   "outputs": [
    {
     "data": {
      "image/png": "[encoded data removed]",
      "text/plain": [
       "<Figure size 864x576 with 12 Axes>"
      ]
     },
     "metadata": {
      "needs_background": "light"
     },
     "output_type": "display_data"
    }
   ],
   "source": [
    "song_data.hist(figsize=(12,8))\n",
    "plt.tight_layout()\n",
    "plt.show();"
   ]
  },
  {
   "cell_type": "markdown",
   "id": "7cb427b4",
   "metadata": {},
   "source": [
    "At a glance, acousticness doesn't yet appear to be a particularly useful feature, nor does speechiness. Mode is interesting. This describes major or minor key, and I wouldn't have expected such an even split overall, but one side or another will likely be favored when separated by genre. <br><br>\n",
    "Of note, it looks like there's a problem with the key bins - I'll need to specify the bins for the correct number of values."
   ]
  },
  {
   "cell_type": "code",
   "execution_count": 245,
   "id": "fad284a0",
   "metadata": {},
   "outputs": [
    {
     "data": {
      "text/plain": [
       "array([ 1,  7,  6,  3,  2,  8, 10, 11,  9,  5,  4,  0], dtype=int64)"
      ]
     },
     "execution_count": 245,
     "metadata": {},
     "output_type": "execute_result"
    }
   ],
   "source": [
    "song_data.key.unique()"
   ]
  },
  {
   "cell_type": "code",
   "execution_count": 249,
   "id": "e501812a",
   "metadata": {},
   "outputs": [
    {
     "data": {
      "text/plain": [
       "1     55\n",
       "7     52\n",
       "11    41\n",
       "6     36\n",
       "10    34\n",
       "9     32\n",
       "2     31\n",
       "5     29\n",
       "0     28\n",
       "8     24\n",
       "4     24\n",
       "3     14\n",
       "Name: key, dtype: int64"
      ]
     },
     "execution_count": 249,
     "metadata": {},
     "output_type": "execute_result"
    }
   ],
   "source": [
    "song_data.key.value_counts()"
   ]
  },
  {
   "cell_type": "code",
   "execution_count": 248,
   "id": "d99df454",
   "metadata": {},
   "outputs": [
    {
     "data": {
      "image/png": "[encoded data removed]",
      "text/plain": [
       "<Figure size 432x288 with 1 Axes>"
      ]
     },
     "metadata": {
      "needs_background": "light"
     },
     "output_type": "display_data"
    }
   ],
   "source": [
    "bins = [0,1,2,3,4,5,6,7,8,9,10,11,12]\n",
    "song_data.key.hist(bins=bins)\n",
    "plt.title('Key')\n",
    "plt.show()"
   ]
  },
  {
   "cell_type": "markdown",
   "id": "fdb3aee9",
   "metadata": {},
   "source": [
    "There we go. 0 starts at C, and 11 ends at B. It appears C# and G are the most frequently used keys, and D# and G# are the least frequently used."
   ]
  },
  {
   "cell_type": "code",
   "execution_count": 129,
   "id": "fee77d75",
   "metadata": {},
   "outputs": [],
   "source": [
    "genre_groups = song_data.groupby(['Genre']).mean()"
   ]
  },
  {
   "cell_type": "code",
   "execution_count": 130,
   "id": "ebf239a3",
   "metadata": {},
   "outputs": [
    {
     "data": {
      "text/html": [
       "<div>\n",
       "<style scoped>\n",
       "    .dataframe tbody tr th:only-of-type {\n",
       "        vertical-align: middle;\n",
       "    }\n",
       "\n",
       "    .dataframe tbody tr th {\n",
       "        vertical-align: top;\n",
       "    }\n",
       "\n",
       "    .dataframe thead th {\n",
       "        text-align: right;\n",
       "    }\n",
       "</style>\n",
       "<table border=\"1\" class=\"dataframe\">\n",
       "  <thead>\n",
       "    <tr style=\"text-align: right;\">\n",
       "      <th></th>\n",
       "      <th>danceability</th>\n",
       "      <th>energy</th>\n",
       "      <th>key</th>\n",
       "      <th>loudness</th>\n",
       "      <th>mode</th>\n",
       "      <th>speechiness</th>\n",
       "      <th>acousticness</th>\n",
       "      <th>instrumentalness</th>\n",
       "      <th>liveness</th>\n",
       "      <th>valence</th>\n",
       "      <th>tempo</th>\n",
       "      <th>duration_ms</th>\n",
       "    </tr>\n",
       "    <tr>\n",
       "      <th>Genre</th>\n",
       "      <th></th>\n",
       "      <th></th>\n",
       "      <th></th>\n",
       "      <th></th>\n",
       "      <th></th>\n",
       "      <th></th>\n",
       "      <th></th>\n",
       "      <th></th>\n",
       "      <th></th>\n",
       "      <th></th>\n",
       "      <th></th>\n",
       "      <th></th>\n",
       "    </tr>\n",
       "  </thead>\n",
       "  <tbody>\n",
       "    <tr>\n",
       "      <th>DnB</th>\n",
       "      <td>0.70760</td>\n",
       "      <td>0.878940</td>\n",
       "      <td>6.82</td>\n",
       "      <td>30.72872</td>\n",
       "      <td>0.42</td>\n",
       "      <td>0.163608</td>\n",
       "      <td>0.059631</td>\n",
       "      <td>0.249665</td>\n",
       "      <td>0.265664</td>\n",
       "      <td>0.475516</td>\n",
       "      <td>143.21862</td>\n",
       "      <td>263688.60</td>\n",
       "    </tr>\n",
       "    <tr>\n",
       "      <th>Dubstep</th>\n",
       "      <td>0.55856</td>\n",
       "      <td>0.913400</td>\n",
       "      <td>5.74</td>\n",
       "      <td>31.26718</td>\n",
       "      <td>0.62</td>\n",
       "      <td>0.143646</td>\n",
       "      <td>0.026219</td>\n",
       "      <td>0.179782</td>\n",
       "      <td>0.260192</td>\n",
       "      <td>0.294940</td>\n",
       "      <td>126.86418</td>\n",
       "      <td>236652.76</td>\n",
       "    </tr>\n",
       "    <tr>\n",
       "      <th>Electro</th>\n",
       "      <td>0.65856</td>\n",
       "      <td>0.768140</td>\n",
       "      <td>4.98</td>\n",
       "      <td>27.51778</td>\n",
       "      <td>0.54</td>\n",
       "      <td>0.087768</td>\n",
       "      <td>0.167564</td>\n",
       "      <td>0.100602</td>\n",
       "      <td>0.186278</td>\n",
       "      <td>0.382472</td>\n",
       "      <td>127.60048</td>\n",
       "      <td>177859.34</td>\n",
       "    </tr>\n",
       "    <tr>\n",
       "      <th>House</th>\n",
       "      <td>0.69992</td>\n",
       "      <td>0.804260</td>\n",
       "      <td>5.62</td>\n",
       "      <td>28.74906</td>\n",
       "      <td>0.42</td>\n",
       "      <td>0.072272</td>\n",
       "      <td>0.080469</td>\n",
       "      <td>0.047708</td>\n",
       "      <td>0.220778</td>\n",
       "      <td>0.510180</td>\n",
       "      <td>123.95394</td>\n",
       "      <td>172111.94</td>\n",
       "    </tr>\n",
       "    <tr>\n",
       "      <th>IDM</th>\n",
       "      <td>0.55748</td>\n",
       "      <td>0.557788</td>\n",
       "      <td>5.24</td>\n",
       "      <td>21.17896</td>\n",
       "      <td>0.66</td>\n",
       "      <td>0.066048</td>\n",
       "      <td>0.414494</td>\n",
       "      <td>0.729541</td>\n",
       "      <td>0.173818</td>\n",
       "      <td>0.346836</td>\n",
       "      <td>117.83316</td>\n",
       "      <td>253969.40</td>\n",
       "    </tr>\n",
       "    <tr>\n",
       "      <th>Synthwave</th>\n",
       "      <td>0.53652</td>\n",
       "      <td>0.771460</td>\n",
       "      <td>5.16</td>\n",
       "      <td>26.65338</td>\n",
       "      <td>0.46</td>\n",
       "      <td>0.053012</td>\n",
       "      <td>0.036351</td>\n",
       "      <td>0.609586</td>\n",
       "      <td>0.162572</td>\n",
       "      <td>0.330346</td>\n",
       "      <td>120.67400</td>\n",
       "      <td>265798.14</td>\n",
       "    </tr>\n",
       "    <tr>\n",
       "      <th>Techno</th>\n",
       "      <td>0.68878</td>\n",
       "      <td>0.863940</td>\n",
       "      <td>6.02</td>\n",
       "      <td>26.31964</td>\n",
       "      <td>0.58</td>\n",
       "      <td>0.081080</td>\n",
       "      <td>0.072303</td>\n",
       "      <td>0.784100</td>\n",
       "      <td>0.173744</td>\n",
       "      <td>0.209824</td>\n",
       "      <td>135.74386</td>\n",
       "      <td>282792.72</td>\n",
       "    </tr>\n",
       "    <tr>\n",
       "      <th>Trance</th>\n",
       "      <td>0.53780</td>\n",
       "      <td>0.884680</td>\n",
       "      <td>5.44</td>\n",
       "      <td>26.80462</td>\n",
       "      <td>0.36</td>\n",
       "      <td>0.048076</td>\n",
       "      <td>0.020302</td>\n",
       "      <td>0.525394</td>\n",
       "      <td>0.237156</td>\n",
       "      <td>0.303920</td>\n",
       "      <td>134.41818</td>\n",
       "      <td>217433.90</td>\n",
       "    </tr>\n",
       "  </tbody>\n",
       "</table>\n",
       "</div>"
      ],
      "text/plain": [
       "           danceability    energy   key  loudness  mode  speechiness  \\\n",
       "Genre                                                                  \n",
       "DnB             0.70760  0.878940  6.82  30.72872  0.42     0.163608   \n",
       "Dubstep         0.55856  0.913400  5.74  31.26718  0.62     0.143646   \n",
       "Electro         0.65856  0.768140  4.98  27.51778  0.54     0.087768   \n",
       "House           0.69992  0.804260  5.62  28.74906  0.42     0.072272   \n",
       "IDM             0.55748  0.557788  5.24  21.17896  0.66     0.066048   \n",
       "Synthwave       0.53652  0.771460  5.16  26.65338  0.46     0.053012   \n",
       "Techno          0.68878  0.863940  6.02  26.31964  0.58     0.081080   \n",
       "Trance          0.53780  0.884680  5.44  26.80462  0.36     0.048076   \n",
       "\n",
       "           acousticness  instrumentalness  liveness   valence      tempo  \\\n",
       "Genre                                                                      \n",
       "DnB            0.059631          0.249665  0.265664  0.475516  143.21862   \n",
       "Dubstep        0.026219          0.179782  0.260192  0.294940  126.86418   \n",
       "Electro        0.167564          0.100602  0.186278  0.382472  127.60048   \n",
       "House          0.080469          0.047708  0.220778  0.510180  123.95394   \n",
       "IDM            0.414494          0.729541  0.173818  0.346836  117.83316   \n",
       "Synthwave      0.036351          0.609586  0.162572  0.330346  120.67400   \n",
       "Techno         0.072303          0.784100  0.173744  0.209824  135.74386   \n",
       "Trance         0.020302          0.525394  0.237156  0.303920  134.41818   \n",
       "\n",
       "           duration_ms  \n",
       "Genre                   \n",
       "DnB          263688.60  \n",
       "Dubstep      236652.76  \n",
       "Electro      177859.34  \n",
       "House        172111.94  \n",
       "IDM          253969.40  \n",
       "Synthwave    265798.14  \n",
       "Techno       282792.72  \n",
       "Trance       217433.90  "
      ]
     },
     "execution_count": 130,
     "metadata": {},
     "output_type": "execute_result"
    }
   ],
   "source": [
    "genre_groups"
   ]
  },
  {
   "cell_type": "code",
   "execution_count": 225,
   "id": "d83983bd",
   "metadata": {},
   "outputs": [],
   "source": [
    "#plt.subplot(211)\n",
    "#plt.bar(genre_groups.index, genre_groups['danceability'], label = 'danceability')\n",
    "#plt.legend(loc = 'best')\n",
    "#plt.subplot(212)\n",
    "#plt.bar(genre_groups.index, genre_groups['energy'], label = 'e')\n",
    "#plt.legend(loc = 'best')\n"
   ]
  },
  {
   "cell_type": "code",
   "execution_count": 224,
   "id": "1613b6de",
   "metadata": {},
   "outputs": [],
   "source": [
    "#ax1 = plt.subplot(421)\n",
    "#ax1.bar(genre_groups.index, genre_groups['danceability'], width=0.5, color='b', align='center')\n",
    "#ax1.set_title('Danceability')\n",
    "#plt.xticks(rotation=90)\n",
    "#ax2 = plt.subplot(422)\n",
    "#ax2.bar(genre_groups.index, genre_groups['energy'], width=0.5, color='g', align='center')\n",
    "#ax2.set_title('Energy')\n",
    "#plt.xticks(rotation=90)\n",
    "#ax3 = plt.subplot(423)\n",
    "#ax3.bar(genre_groups.index, genre_groups['key'], width=0.5, color='r', align='center')\n",
    "#plt.xticks(rotation=90)\n",
    "#ax8 = plt.subplot(424)\n",
    "#ax8.bar(genre_groups.index, genre_groups['key'], width=0.5, color='r', align='center')\n",
    "#plt.xticks(rotation=90)\n",
    "#ax7 = plt.subplot(425)\n",
    "#ax7.bar(genre_groups.index, genre_groups['key'], width=0.5, color='r', align='center')\n",
    "#plt.xticks(rotation=90)\n",
    "#a#x6 = plt.subplot(426)\n",
    "#ax6.bar(genre_groups.index, genre_groups['key'], width=0.5, color='r', align='center')\n",
    "#plt.xticks(rotation=90)\n",
    "#ax5 = plt.subplot(427)\n",
    "#ax5.bar(genre_groups.index, genre_groups['key'], width=0.5, color='r', align='center')\n",
    "#plt.xticks(rotation=90)\n",
    "#ax4 = plt.subplot(428)\n",
    "#ax4.bar(genre_groups.index, genre_groups['key'], width=0.5, color='r', align='center')\n",
    "#plt.xticks(rotation=90)\n",
    "#ax.bar(x+0.2, k, width=0.2, color='r', align='center')\n",
    "\n",
    "#plt.tight_layout()\n",
    "#plt.figure(figsize=(15,10))\n",
    "#plt.tight_layout()\n",
    "#plt.figure(figsize=(15,10))\n",
    "#plt.show()\n",
    "\n",
    "#barcolors = ['b', 'g', 'r', 'c', 'm', 'y', 'k', 'b']"
   ]
  },
  {
   "cell_type": "code",
   "execution_count": 158,
   "id": "9f059ff5",
   "metadata": {},
   "outputs": [
    {
     "data": {
      "image/png": "[encoded data removed]",
      "text/plain": [
       "<Figure size 432x288 with 1 Axes>"
      ]
     },
     "metadata": {
      "needs_background": "light"
     },
     "output_type": "display_data"
    }
   ],
   "source": [
    "plt.bar(genre_groups.index, genre_groups['danceability'], width=0.7, color=barcolors, align='center')\n",
    "plt.title('Danceability')\n",
    "plt.xticks(rotation=90)\n",
    "plt.show()"
   ]
  },
  {
   "cell_type": "markdown",
   "id": "ce7a88ee",
   "metadata": {},
   "source": [
    "Danceability sets a few genres apart, some differentiation power here."
   ]
  },
  {
   "cell_type": "code",
   "execution_count": 159,
   "id": "0b6cd2b7",
   "metadata": {},
   "outputs": [
    {
     "data": {
      "image/png": "[encoded data removed]",
      "text/plain": [
       "<Figure size 432x288 with 1 Axes>"
      ]
     },
     "metadata": {
      "needs_background": "light"
     },
     "output_type": "display_data"
    }
   ],
   "source": [
    "plt.bar(genre_groups.index, genre_groups['energy'], width=0.7, color=barcolors, align='center')\n",
    "plt.title('Energy')\n",
    "plt.xticks(rotation=90)\n",
    "plt.show()"
   ]
  },
  {
   "cell_type": "markdown",
   "id": "5bc16c8e",
   "metadata": {},
   "source": [
    "There's a bit more variety in the energy variable, and they don't seem to follow danceability trends too strongly."
   ]
  },
  {
   "cell_type": "code",
   "execution_count": 177,
   "id": "3e6f28c4",
   "metadata": {},
   "outputs": [
    {
     "data": {
      "image/png": "[encoded data removed]",
      "text/plain": [
       "<Figure size 432x288 with 1 Axes>"
      ]
     },
     "metadata": {
      "needs_background": "light"
     },
     "output_type": "display_data"
    }
   ],
   "source": [
    "plt.bar(genre_groups.index, genre_groups['loudness'], width=0.7, color=barcolors, align='center')\n",
    "plt.title('Loudness')\n",
    "plt.xticks(rotation=90)\n",
    "plt.ylim([15,35])\n",
    "plt.show()"
   ]
  },
  {
   "cell_type": "markdown",
   "id": "97a3cfa3",
   "metadata": {},
   "source": [
    "There is some differentiation in loudness, notably IDM."
   ]
  },
  {
   "cell_type": "code",
   "execution_count": 162,
   "id": "2d35a218",
   "metadata": {},
   "outputs": [
    {
     "data": {
      "image/png": "[encoded data removed]",
      "text/plain": [
       "<Figure size 432x288 with 1 Axes>"
      ]
     },
     "metadata": {
      "needs_background": "light"
     },
     "output_type": "display_data"
    }
   ],
   "source": [
    "plt.bar(genre_groups.index, genre_groups['speechiness'], width=0.7, color=barcolors, align='center')\n",
    "plt.title('Speechiness')\n",
    "plt.xticks(rotation=90)\n",
    "plt.show()"
   ]
  },
  {
   "cell_type": "markdown",
   "id": "c25a1cab",
   "metadata": {},
   "source": [
    "So far, speechiness shows slightly more difference visually, but the variation between groups is quite low."
   ]
  },
  {
   "cell_type": "code",
   "execution_count": 163,
   "id": "50fecd8c",
   "metadata": {},
   "outputs": [
    {
     "data": {
      "image/png": "[encoded data removed]",
      "text/plain": [
       "<Figure size 432x288 with 1 Axes>"
      ]
     },
     "metadata": {
      "needs_background": "light"
     },
     "output_type": "display_data"
    }
   ],
   "source": [
    "plt.bar(genre_groups.index, genre_groups['acousticness'], width=0.7, color=barcolors, align='center')\n",
    "plt.title('Acousticness')\n",
    "plt.xticks(rotation=90)\n",
    "plt.show()"
   ]
  },
  {
   "cell_type": "markdown",
   "id": "7641501d",
   "metadata": {},
   "source": [
    "Here, acousticness seems to be a solid feature to include in our model."
   ]
  },
  {
   "cell_type": "code",
   "execution_count": 164,
   "id": "33508e4b",
   "metadata": {},
   "outputs": [
    {
     "data": {
      "image/png": "[encoded data removed]",
      "text/plain": [
       "<Figure size 432x288 with 1 Axes>"
      ]
     },
     "metadata": {
      "needs_background": "light"
     },
     "output_type": "display_data"
    }
   ],
   "source": [
    "plt.bar(genre_groups.index, genre_groups['instrumentalness'], width=0.7, color=barcolors, align='center')\n",
    "plt.title('Instrumentalness')\n",
    "plt.xticks(rotation=90)\n",
    "plt.show()"
   ]
  },
  {
   "cell_type": "markdown",
   "id": "897a6889",
   "metadata": {},
   "source": [
    "Instrumentalness also appears to be a great variable to use to differentiate genres, with the averages being all over the possible scale."
   ]
  },
  {
   "cell_type": "code",
   "execution_count": 165,
   "id": "a0617268",
   "metadata": {},
   "outputs": [
    {
     "data": {
      "image/png": "[encoded data removed]",
      "text/plain": [
       "<Figure size 432x288 with 1 Axes>"
      ]
     },
     "metadata": {
      "needs_background": "light"
     },
     "output_type": "display_data"
    }
   ],
   "source": [
    "plt.bar(genre_groups.index, genre_groups['liveness'], width=0.7, color=barcolors, align='center')\n",
    "plt.title('Liveness')\n",
    "plt.xticks(rotation=90)\n",
    "plt.show()"
   ]
  },
  {
   "cell_type": "code",
   "execution_count": null,
   "id": "b7bf8aa7",
   "metadata": {},
   "outputs": [],
   "source": []
  },
  {
   "cell_type": "code",
   "execution_count": 172,
   "id": "0120e5b8",
   "metadata": {},
   "outputs": [
    {
     "data": {
      "image/png": "[encoded data removed]",
      "text/plain": [
       "<Figure size 432x288 with 1 Axes>"
      ]
     },
     "metadata": {
      "needs_background": "light"
     },
     "output_type": "display_data"
    }
   ],
   "source": [
    "plt.bar(genre_groups.index, genre_groups['tempo'], width=0.7, color=barcolors, align='center')\n",
    "plt.title('Tempo')\n",
    "plt.xticks(rotation=90)\n",
    "plt.ylim([110, 150])\n",
    "plt.show()"
   ]
  },
  {
   "cell_type": "code",
   "execution_count": 167,
   "id": "9ffe13df",
   "metadata": {},
   "outputs": [
    {
     "data": {
      "image/png": "[encoded data removed]",
      "text/plain": [
       "<Figure size 432x288 with 1 Axes>"
      ]
     },
     "metadata": {
      "needs_background": "light"
     },
     "output_type": "display_data"
    }
   ],
   "source": [
    "plt.bar(genre_groups.index, genre_groups['duration_ms'], width=0.7, color=barcolors, align='center')\n",
    "plt.title('Song Length')\n",
    "plt.xticks(rotation=90)\n",
    "plt.show()"
   ]
  },
  {
   "cell_type": "code",
   "execution_count": 168,
   "id": "cfd1ca2b",
   "metadata": {},
   "outputs": [
    {
     "data": {
      "image/png": "[encoded data removed]",
      "text/plain": [
       "<Figure size 432x288 with 1 Axes>"
      ]
     },
     "metadata": {
      "needs_background": "light"
     },
     "output_type": "display_data"
    }
   ],
   "source": [
    "plt.bar(genre_groups.index, genre_groups['valence'], width=0.7, color=barcolors, align='center')\n",
    "plt.title('Valence')\n",
    "plt.xticks(rotation=90)\n",
    "plt.show()"
   ]
  },
  {
   "cell_type": "markdown",
   "id": "5aa00f67",
   "metadata": {},
   "source": [
    "Overall, some features seem to be stronger than others for differentiation based solely on means. Let's check a more detailed distribution now."
   ]
  },
  {
   "cell_type": "code",
   "execution_count": 223,
   "id": "8e1918b7",
   "metadata": {},
   "outputs": [
    {
     "data": {
      "image/png": "[encoded data removed]",
      "text/plain": [
       "<Figure size 720x1080 with 10 Axes>"
      ]
     },
     "metadata": {
      "needs_background": "light"
     },
     "output_type": "display_data"
    }
   ],
   "source": [
    "fig, axes = plt.subplots(5, 2, figsize=[10, 15])\n",
    "variables = ['danceability', 'energy', 'loudness', 'speechiness',\n",
    "             'acousticness', 'instrumentalness', 'liveness', 'valence', 'tempo', 'duration_ms']\n",
    "i=0\n",
    "j=0\n",
    "for row, var in enumerate(variables):\n",
    "    if i%2 == 0:\n",
    "        sns.boxplot(x='Genre', y=var, data=song_data, ax=axes[j,i])\n",
    "        i+=1\n",
    "        continue\n",
    "    if i%2 == 1:\n",
    "        sns.boxplot(x='Genre', y=var, data=song_data, ax=axes[j,i])\n",
    "        j+=1\n",
    "        i-=1\n",
    "plt.tight_layout()\n",
    "plt.show()"
   ]
  },
  {
   "cell_type": "markdown",
   "id": "55c6454f",
   "metadata": {},
   "source": [
    "Here's an interesting view of what's going on. Danceability, loudness, instrumentalness, tempo, and duration appear to be the frontrunners. Let's check out key and mode, the two categorical variables we didn't include here."
   ]
  },
  {
   "cell_type": "code",
   "execution_count": 328,
   "id": "17cdd05b",
   "metadata": {},
   "outputs": [
    {
     "data": {
      "image/png": "[encoded data removed]",
      "text/plain": [
       "<Figure size 432x288 with 1 Axes>"
      ]
     },
     "metadata": {
      "needs_background": "light"
     },
     "output_type": "display_data"
    }
   ],
   "source": [
    "song_data['key'].hist(bins=bins)\n",
    "plt.show()"
   ]
  },
  {
   "cell_type": "code",
   "execution_count": 329,
   "id": "b9ca2e25",
   "metadata": {},
   "outputs": [
    {
     "data": {
      "image/png": "[encoded data removed]",
      "text/plain": [
       "<Figure size 432x288 with 1 Axes>"
      ]
     },
     "metadata": {
      "needs_background": "light"
     },
     "output_type": "display_data"
    }
   ],
   "source": [
    "song_data['mode'].hist()\n",
    "plt.show()"
   ]
  },
  {
   "cell_type": "code",
   "execution_count": 359,
   "id": "e83f6edb",
   "metadata": {},
   "outputs": [
    {
     "data": {
      "image/png": "[encoded data removed]",
      "text/plain": [
       "<Figure size 432x288 with 1 Axes>"
      ]
     },
     "metadata": {
      "needs_background": "light"
     },
     "output_type": "display_data"
    }
   ],
   "source": [
    "sns.scatterplot(x='Genre', y='key', data=song_data, sizes=(40,400))\n",
    "plt.show()"
   ]
  },
  {
   "cell_type": "code",
   "execution_count": 405,
   "id": "1df6424e",
   "metadata": {},
   "outputs": [
    {
     "data": {
      "image/png": "[encoded data removed]",
      "text/plain": [
       "<Figure size 432x288 with 8 Axes>"
      ]
     },
     "metadata": {
      "needs_background": "light"
     },
     "output_type": "display_data"
    }
   ],
   "source": [
    "#song_data.groupby(['key', 'Genre']).count()['danceability']\n",
    "#song_data.pivot(index='key', columns='Genre', values='danceability')\n",
    "list_genres2 = ['House', 'Trance', 'Techno', 'DnB', 'Dubstep', 'IDM', 'Synthwave', 'Electro']\n",
    "key_genre = pd.pivot_table(song_data.reset_index(),index='key',\n",
    "                           columns='Genre', values='danceability', aggfunc='count').fillna(0).astype(int)\n",
    "plt.subplots(8,1)\n",
    "for i in range(8):\n",
    "    plt.bar(x=key_genre.columns, height=key_genre.iloc[i, :])\n",
    "plt.show()\n"
   ]
  },
  {
   "cell_type": "code",
   "execution_count": 394,
   "id": "c4c1a675",
   "metadata": {},
   "outputs": [
    {
     "data": {
      "text/plain": [
       "<BarContainer object of 8 artists>"
      ]
     },
     "execution_count": 394,
     "metadata": {},
     "output_type": "execute_result"
    },
    {
     "data": {
      "image/png": "[encoded data removed]",
      "text/plain": [
       "<Figure size 432x288 with 1 Axes>"
      ]
     },
     "metadata": {
      "needs_background": "light"
     },
     "output_type": "display_data"
    }
   ],
   "source": [
    "plt.bar(x=key_genre.columns, height=key_genre.iloc[0, :])"
   ]
  },
  {
   "cell_type": "code",
   "execution_count": 382,
   "id": "8c740332",
   "metadata": {},
   "outputs": [
    {
     "data": {
      "text/html": [
       "<div>\n",
       "<style scoped>\n",
       "    .dataframe tbody tr th:only-of-type {\n",
       "        vertical-align: middle;\n",
       "    }\n",
       "\n",
       "    .dataframe tbody tr th {\n",
       "        vertical-align: top;\n",
       "    }\n",
       "\n",
       "    .dataframe thead th {\n",
       "        text-align: right;\n",
       "    }\n",
       "</style>\n",
       "<table border=\"1\" class=\"dataframe\">\n",
       "  <thead>\n",
       "    <tr style=\"text-align: right;\">\n",
       "      <th>Genre</th>\n",
       "      <th>DnB</th>\n",
       "      <th>Dubstep</th>\n",
       "      <th>Electro</th>\n",
       "      <th>House</th>\n",
       "      <th>IDM</th>\n",
       "      <th>Synthwave</th>\n",
       "      <th>Techno</th>\n",
       "      <th>Trance</th>\n",
       "    </tr>\n",
       "    <tr>\n",
       "      <th>key</th>\n",
       "      <th></th>\n",
       "      <th></th>\n",
       "      <th></th>\n",
       "      <th></th>\n",
       "      <th></th>\n",
       "      <th></th>\n",
       "      <th></th>\n",
       "      <th></th>\n",
       "    </tr>\n",
       "  </thead>\n",
       "  <tbody>\n",
       "    <tr>\n",
       "      <th>0</th>\n",
       "      <td>2</td>\n",
       "      <td>2</td>\n",
       "      <td>7</td>\n",
       "      <td>4</td>\n",
       "      <td>2</td>\n",
       "      <td>5</td>\n",
       "      <td>4</td>\n",
       "      <td>2</td>\n",
       "    </tr>\n",
       "    <tr>\n",
       "      <th>1</th>\n",
       "      <td>7</td>\n",
       "      <td>10</td>\n",
       "      <td>8</td>\n",
       "      <td>6</td>\n",
       "      <td>10</td>\n",
       "      <td>2</td>\n",
       "      <td>7</td>\n",
       "      <td>5</td>\n",
       "    </tr>\n",
       "    <tr>\n",
       "      <th>2</th>\n",
       "      <td>0</td>\n",
       "      <td>4</td>\n",
       "      <td>5</td>\n",
       "      <td>3</td>\n",
       "      <td>2</td>\n",
       "      <td>9</td>\n",
       "      <td>4</td>\n",
       "      <td>4</td>\n",
       "    </tr>\n",
       "    <tr>\n",
       "      <th>3</th>\n",
       "      <td>1</td>\n",
       "      <td>1</td>\n",
       "      <td>2</td>\n",
       "      <td>2</td>\n",
       "      <td>0</td>\n",
       "      <td>5</td>\n",
       "      <td>0</td>\n",
       "      <td>3</td>\n",
       "    </tr>\n",
       "    <tr>\n",
       "      <th>4</th>\n",
       "      <td>4</td>\n",
       "      <td>1</td>\n",
       "      <td>3</td>\n",
       "      <td>3</td>\n",
       "      <td>5</td>\n",
       "      <td>1</td>\n",
       "      <td>0</td>\n",
       "      <td>7</td>\n",
       "    </tr>\n",
       "    <tr>\n",
       "      <th>5</th>\n",
       "      <td>2</td>\n",
       "      <td>3</td>\n",
       "      <td>2</td>\n",
       "      <td>1</td>\n",
       "      <td>5</td>\n",
       "      <td>6</td>\n",
       "      <td>4</td>\n",
       "      <td>6</td>\n",
       "    </tr>\n",
       "    <tr>\n",
       "      <th>6</th>\n",
       "      <td>7</td>\n",
       "      <td>7</td>\n",
       "      <td>0</td>\n",
       "      <td>8</td>\n",
       "      <td>6</td>\n",
       "      <td>1</td>\n",
       "      <td>4</td>\n",
       "      <td>3</td>\n",
       "    </tr>\n",
       "    <tr>\n",
       "      <th>7</th>\n",
       "      <td>3</td>\n",
       "      <td>4</td>\n",
       "      <td>7</td>\n",
       "      <td>7</td>\n",
       "      <td>9</td>\n",
       "      <td>6</td>\n",
       "      <td>10</td>\n",
       "      <td>6</td>\n",
       "    </tr>\n",
       "    <tr>\n",
       "      <th>8</th>\n",
       "      <td>3</td>\n",
       "      <td>3</td>\n",
       "      <td>3</td>\n",
       "      <td>6</td>\n",
       "      <td>2</td>\n",
       "      <td>3</td>\n",
       "      <td>2</td>\n",
       "      <td>2</td>\n",
       "    </tr>\n",
       "    <tr>\n",
       "      <th>9</th>\n",
       "      <td>3</td>\n",
       "      <td>4</td>\n",
       "      <td>5</td>\n",
       "      <td>3</td>\n",
       "      <td>4</td>\n",
       "      <td>5</td>\n",
       "      <td>2</td>\n",
       "      <td>6</td>\n",
       "    </tr>\n",
       "    <tr>\n",
       "      <th>10</th>\n",
       "      <td>7</td>\n",
       "      <td>4</td>\n",
       "      <td>3</td>\n",
       "      <td>3</td>\n",
       "      <td>3</td>\n",
       "      <td>5</td>\n",
       "      <td>5</td>\n",
       "      <td>4</td>\n",
       "    </tr>\n",
       "    <tr>\n",
       "      <th>11</th>\n",
       "      <td>11</td>\n",
       "      <td>7</td>\n",
       "      <td>5</td>\n",
       "      <td>4</td>\n",
       "      <td>2</td>\n",
       "      <td>2</td>\n",
       "      <td>8</td>\n",
       "      <td>2</td>\n",
       "    </tr>\n",
       "  </tbody>\n",
       "</table>\n",
       "</div>"
      ],
      "text/plain": [
       "Genre  DnB  Dubstep  Electro  House  IDM  Synthwave  Techno  Trance\n",
       "key                                                                \n",
       "0        2        2        7      4    2          5       4       2\n",
       "1        7       10        8      6   10          2       7       5\n",
       "2        0        4        5      3    2          9       4       4\n",
       "3        1        1        2      2    0          5       0       3\n",
       "4        4        1        3      3    5          1       0       7\n",
       "5        2        3        2      1    5          6       4       6\n",
       "6        7        7        0      8    6          1       4       3\n",
       "7        3        4        7      7    9          6      10       6\n",
       "8        3        3        3      6    2          3       2       2\n",
       "9        3        4        5      3    4          5       2       6\n",
       "10       7        4        3      3    3          5       5       4\n",
       "11      11        7        5      4    2          2       8       2"
      ]
     },
     "execution_count": 382,
     "metadata": {},
     "output_type": "execute_result"
    }
   ],
   "source": [
    "key_genre"
   ]
  },
  {
   "cell_type": "code",
   "execution_count": 299,
   "id": "da39d46a",
   "metadata": {},
   "outputs": [
    {
     "data": {
      "image/png": "[encoded data removed]",
      "text/plain": [
       "<Figure size 432x288 with 1 Axes>"
      ]
     },
     "metadata": {
      "needs_background": "light"
     },
     "output_type": "display_data"
    }
   ],
   "source": [
    "plt.bar(x=gens, height=vals, color=barcolors)\n",
    "plt.title('Number of Songs in Minor Keys Per Genre')\n",
    "plt.show()"
   ]
  },
  {
   "cell_type": "code",
   "execution_count": 291,
   "id": "b9b67245",
   "metadata": {},
   "outputs": [],
   "source": [
    "gens = list(song_data.groupby(['Genre'])['mode'].sum().index)\n",
    "vals = list(song_data.groupby(['Genre'])['mode'].sum().values)"
   ]
  },
  {
   "cell_type": "code",
   "execution_count": 308,
   "id": "fd5a7f99",
   "metadata": {},
   "outputs": [
    {
     "data": {
      "image/png": "[encoded data removed]",
      "text/plain": [
       "<Figure size 864x720 with 2 Axes>"
      ]
     },
     "metadata": {
      "needs_background": "light"
     },
     "output_type": "display_data"
    }
   ],
   "source": [
    "plt.figure(figsize=(12,10))\n",
    "sns.heatmap(song_data.corr())\n",
    "plt.title('Song Feature Correlations', fontsize=24)\n",
    "plt.show()"
   ]
  },
  {
   "cell_type": "markdown",
   "id": "c4381c0b",
   "metadata": {},
   "source": [
    "Energy and loudness are pretty strongly correlated with each other, unsurprisingly. Looking back at the boxplots, the IQRs of loudness by genre are more narrow and differentiated than those of energy by genre. We can go ahead and drop the energy column. <br><br>\n",
    "Let's also take a look at loudness and energy: these appear to be quite negatively correlated, but let's get a closer look:"
   ]
  },
  {
   "cell_type": "code",
   "execution_count": 319,
   "id": "8936d945",
   "metadata": {},
   "outputs": [
    {
     "data": {
      "image/png": "[encoded data removed]",
      "text/plain": [
       "<Figure size 432x288 with 1 Axes>"
      ]
     },
     "metadata": {
      "needs_background": "light"
     },
     "output_type": "display_data"
    }
   ],
   "source": [
    "plt.scatter(x='energy', y='loudness', data=song_data)\n",
    "plt.xlabel('energy')\n",
    "plt.ylabel('loudness')\n",
    "\n",
    "m, b = np.polyfit(song_data.energy, song_data.loudness, 1)\n",
    "plt.plot(song_data.energy, m*(song_data.energy)+b, color='r')\n",
    "plt.show()"
   ]
  },
  {
   "cell_type": "code",
   "execution_count": 407,
   "id": "5a4753d6",
   "metadata": {},
   "outputs": [
    {
     "ename": "IndexError",
     "evalue": "single positional indexer is out-of-bounds",
     "output_type": "error",
     "traceback": [
      "\u001b[1;31m---------------------------------------------------------------------------\u001b[0m",
      "\u001b[1;31mIndexError\u001b[0m                                Traceback (most recent call last)",
      "Input \u001b[1;32mIn [407]\u001b[0m, in \u001b[0;36m<cell line: 1>\u001b[1;34m()\u001b[0m\n\u001b[0;32m      1\u001b[0m \u001b[38;5;28;01mfor\u001b[39;00m feature \u001b[38;5;129;01min\u001b[39;00m \u001b[38;5;28mrange\u001b[39m(\u001b[38;5;28mlen\u001b[39m(song_data[\u001b[38;5;124m'\u001b[39m\u001b[38;5;124mGenre\u001b[39m\u001b[38;5;124m'\u001b[39m])):\n\u001b[1;32m----> 2\u001b[0m     plt\u001b[38;5;241m.\u001b[39mscatter(x\u001b[38;5;241m=\u001b[39msong_data\u001b[38;5;241m.\u001b[39mGenre, y\u001b[38;5;241m=\u001b[39m\u001b[43msong_data\u001b[49m\u001b[38;5;241;43m.\u001b[39;49m\u001b[43miloc\u001b[49m\u001b[43m[\u001b[49m\u001b[43m:\u001b[49m\u001b[43m,\u001b[49m\u001b[43m \u001b[49m\u001b[43mfeature\u001b[49m\u001b[43m]\u001b[49m)\n",
      "File \u001b[1;32m~\\anaconda3\\lib\\site-packages\\pandas\\core\\indexing.py:961\u001b[0m, in \u001b[0;36m_LocationIndexer.__getitem__\u001b[1;34m(self, key)\u001b[0m\n\u001b[0;32m    959\u001b[0m     \u001b[38;5;28;01mif\u001b[39;00m \u001b[38;5;28mself\u001b[39m\u001b[38;5;241m.\u001b[39m_is_scalar_access(key):\n\u001b[0;32m    960\u001b[0m         \u001b[38;5;28;01mreturn\u001b[39;00m \u001b[38;5;28mself\u001b[39m\u001b[38;5;241m.\u001b[39mobj\u001b[38;5;241m.\u001b[39m_get_value(\u001b[38;5;241m*\u001b[39mkey, takeable\u001b[38;5;241m=\u001b[39m\u001b[38;5;28mself\u001b[39m\u001b[38;5;241m.\u001b[39m_takeable)\n\u001b[1;32m--> 961\u001b[0m     \u001b[38;5;28;01mreturn\u001b[39;00m \u001b[38;5;28;43mself\u001b[39;49m\u001b[38;5;241;43m.\u001b[39;49m\u001b[43m_getitem_tuple\u001b[49m\u001b[43m(\u001b[49m\u001b[43mkey\u001b[49m\u001b[43m)\u001b[49m\n\u001b[0;32m    962\u001b[0m \u001b[38;5;28;01melse\u001b[39;00m:\n\u001b[0;32m    963\u001b[0m     \u001b[38;5;66;03m# we by definition only have the 0th axis\u001b[39;00m\n\u001b[0;32m    964\u001b[0m     axis \u001b[38;5;241m=\u001b[39m \u001b[38;5;28mself\u001b[39m\u001b[38;5;241m.\u001b[39maxis \u001b[38;5;129;01mor\u001b[39;00m \u001b[38;5;241m0\u001b[39m\n",
      "File \u001b[1;32m~\\anaconda3\\lib\\site-packages\\pandas\\core\\indexing.py:1458\u001b[0m, in \u001b[0;36m_iLocIndexer._getitem_tuple\u001b[1;34m(self, tup)\u001b[0m\n\u001b[0;32m   1456\u001b[0m \u001b[38;5;28;01mdef\u001b[39;00m \u001b[38;5;21m_getitem_tuple\u001b[39m(\u001b[38;5;28mself\u001b[39m, tup: \u001b[38;5;28mtuple\u001b[39m):\n\u001b[1;32m-> 1458\u001b[0m     tup \u001b[38;5;241m=\u001b[39m \u001b[38;5;28;43mself\u001b[39;49m\u001b[38;5;241;43m.\u001b[39;49m\u001b[43m_validate_tuple_indexer\u001b[49m\u001b[43m(\u001b[49m\u001b[43mtup\u001b[49m\u001b[43m)\u001b[49m\n\u001b[0;32m   1459\u001b[0m     \u001b[38;5;28;01mwith\u001b[39;00m suppress(IndexingError):\n\u001b[0;32m   1460\u001b[0m         \u001b[38;5;28;01mreturn\u001b[39;00m \u001b[38;5;28mself\u001b[39m\u001b[38;5;241m.\u001b[39m_getitem_lowerdim(tup)\n",
      "File \u001b[1;32m~\\anaconda3\\lib\\site-packages\\pandas\\core\\indexing.py:769\u001b[0m, in \u001b[0;36m_LocationIndexer._validate_tuple_indexer\u001b[1;34m(self, key)\u001b[0m\n\u001b[0;32m    767\u001b[0m \u001b[38;5;28;01mfor\u001b[39;00m i, k \u001b[38;5;129;01min\u001b[39;00m \u001b[38;5;28menumerate\u001b[39m(key):\n\u001b[0;32m    768\u001b[0m     \u001b[38;5;28;01mtry\u001b[39;00m:\n\u001b[1;32m--> 769\u001b[0m         \u001b[38;5;28;43mself\u001b[39;49m\u001b[38;5;241;43m.\u001b[39;49m\u001b[43m_validate_key\u001b[49m\u001b[43m(\u001b[49m\u001b[43mk\u001b[49m\u001b[43m,\u001b[49m\u001b[43m \u001b[49m\u001b[43mi\u001b[49m\u001b[43m)\u001b[49m\n\u001b[0;32m    770\u001b[0m     \u001b[38;5;28;01mexcept\u001b[39;00m \u001b[38;5;167;01mValueError\u001b[39;00m \u001b[38;5;28;01mas\u001b[39;00m err:\n\u001b[0;32m    771\u001b[0m         \u001b[38;5;28;01mraise\u001b[39;00m \u001b[38;5;167;01mValueError\u001b[39;00m(\n\u001b[0;32m    772\u001b[0m             \u001b[38;5;124m\"\u001b[39m\u001b[38;5;124mLocation based indexing can only have \u001b[39m\u001b[38;5;124m\"\u001b[39m\n\u001b[0;32m    773\u001b[0m             \u001b[38;5;124mf\u001b[39m\u001b[38;5;124m\"\u001b[39m\u001b[38;5;124m[\u001b[39m\u001b[38;5;132;01m{\u001b[39;00m\u001b[38;5;28mself\u001b[39m\u001b[38;5;241m.\u001b[39m_valid_types\u001b[38;5;132;01m}\u001b[39;00m\u001b[38;5;124m] types\u001b[39m\u001b[38;5;124m\"\u001b[39m\n\u001b[0;32m    774\u001b[0m         ) \u001b[38;5;28;01mfrom\u001b[39;00m \u001b[38;5;21;01merr\u001b[39;00m\n",
      "File \u001b[1;32m~\\anaconda3\\lib\\site-packages\\pandas\\core\\indexing.py:1361\u001b[0m, in \u001b[0;36m_iLocIndexer._validate_key\u001b[1;34m(self, key, axis)\u001b[0m\n\u001b[0;32m   1359\u001b[0m     \u001b[38;5;28;01mreturn\u001b[39;00m\n\u001b[0;32m   1360\u001b[0m \u001b[38;5;28;01melif\u001b[39;00m is_integer(key):\n\u001b[1;32m-> 1361\u001b[0m     \u001b[38;5;28;43mself\u001b[39;49m\u001b[38;5;241;43m.\u001b[39;49m\u001b[43m_validate_integer\u001b[49m\u001b[43m(\u001b[49m\u001b[43mkey\u001b[49m\u001b[43m,\u001b[49m\u001b[43m \u001b[49m\u001b[43maxis\u001b[49m\u001b[43m)\u001b[49m\n\u001b[0;32m   1362\u001b[0m \u001b[38;5;28;01melif\u001b[39;00m \u001b[38;5;28misinstance\u001b[39m(key, \u001b[38;5;28mtuple\u001b[39m):\n\u001b[0;32m   1363\u001b[0m     \u001b[38;5;66;03m# a tuple should already have been caught by this point\u001b[39;00m\n\u001b[0;32m   1364\u001b[0m     \u001b[38;5;66;03m# so don't treat a tuple as a valid indexer\u001b[39;00m\n\u001b[0;32m   1365\u001b[0m     \u001b[38;5;28;01mraise\u001b[39;00m IndexingError(\u001b[38;5;124m\"\u001b[39m\u001b[38;5;124mToo many indexers\u001b[39m\u001b[38;5;124m\"\u001b[39m)\n",
      "File \u001b[1;32m~\\anaconda3\\lib\\site-packages\\pandas\\core\\indexing.py:1452\u001b[0m, in \u001b[0;36m_iLocIndexer._validate_integer\u001b[1;34m(self, key, axis)\u001b[0m\n\u001b[0;32m   1450\u001b[0m len_axis \u001b[38;5;241m=\u001b[39m \u001b[38;5;28mlen\u001b[39m(\u001b[38;5;28mself\u001b[39m\u001b[38;5;241m.\u001b[39mobj\u001b[38;5;241m.\u001b[39m_get_axis(axis))\n\u001b[0;32m   1451\u001b[0m \u001b[38;5;28;01mif\u001b[39;00m key \u001b[38;5;241m>\u001b[39m\u001b[38;5;241m=\u001b[39m len_axis \u001b[38;5;129;01mor\u001b[39;00m key \u001b[38;5;241m<\u001b[39m \u001b[38;5;241m-\u001b[39mlen_axis:\n\u001b[1;32m-> 1452\u001b[0m     \u001b[38;5;28;01mraise\u001b[39;00m \u001b[38;5;167;01mIndexError\u001b[39;00m(\u001b[38;5;124m\"\u001b[39m\u001b[38;5;124msingle positional indexer is out-of-bounds\u001b[39m\u001b[38;5;124m\"\u001b[39m)\n",
      "\u001b[1;31mIndexError\u001b[0m: single positional indexer is out-of-bounds"
     ]
    },
    {
     "data": {
      "image/png": "[encoded data removed]",
      "text/plain": [
       "<Figure size 432x288 with 1 Axes>"
      ]
     },
     "metadata": {
      "needs_background": "light"
     },
     "output_type": "display_data"
    }
   ],
   "source": [
    "for feature in range(len(song_data['Genre'])):\n",
    "    plt.scatter(x=song_data.Genre, y=song_data.iloc[:, feature])"
   ]
  },
  {
   "cell_type": "code",
   "execution_count": null,
   "id": "864b037e",
   "metadata": {},
   "outputs": [],
   "source": []
  },
  {
   "cell_type": "code",
   "execution_count": 320,
   "id": "e23e420b",
   "metadata": {},
   "outputs": [
    {
     "data": {
      "text/html": [
       "<div>\n",
       "<style scoped>\n",
       "    .dataframe tbody tr th:only-of-type {\n",
       "        vertical-align: middle;\n",
       "    }\n",
       "\n",
       "    .dataframe tbody tr th {\n",
       "        vertical-align: top;\n",
       "    }\n",
       "\n",
       "    .dataframe thead th {\n",
       "        text-align: right;\n",
       "    }\n",
       "</style>\n",
       "<table border=\"1\" class=\"dataframe\">\n",
       "  <thead>\n",
       "    <tr style=\"text-align: right;\">\n",
       "      <th></th>\n",
       "      <th>danceability</th>\n",
       "      <th>energy</th>\n",
       "      <th>key</th>\n",
       "      <th>loudness</th>\n",
       "      <th>mode</th>\n",
       "      <th>speechiness</th>\n",
       "      <th>acousticness</th>\n",
       "      <th>instrumentalness</th>\n",
       "      <th>liveness</th>\n",
       "      <th>valence</th>\n",
       "      <th>tempo</th>\n",
       "      <th>duration_ms</th>\n",
       "    </tr>\n",
       "  </thead>\n",
       "  <tbody>\n",
       "    <tr>\n",
       "      <th>danceability</th>\n",
       "      <td>1.000000</td>\n",
       "      <td>0.130623</td>\n",
       "      <td>0.150061</td>\n",
       "      <td>0.196836</td>\n",
       "      <td>0.007778</td>\n",
       "      <td>0.137844</td>\n",
       "      <td>-0.109852</td>\n",
       "      <td>-0.161783</td>\n",
       "      <td>-0.025620</td>\n",
       "      <td>0.353239</td>\n",
       "      <td>0.069139</td>\n",
       "      <td>0.039697</td>\n",
       "    </tr>\n",
       "    <tr>\n",
       "      <th>energy</th>\n",
       "      <td>0.130623</td>\n",
       "      <td>1.000000</td>\n",
       "      <td>0.071118</td>\n",
       "      <td>0.718402</td>\n",
       "      <td>-0.093618</td>\n",
       "      <td>0.107803</td>\n",
       "      <td>-0.710462</td>\n",
       "      <td>-0.139067</td>\n",
       "      <td>0.127826</td>\n",
       "      <td>0.051657</td>\n",
       "      <td>0.331624</td>\n",
       "      <td>0.069790</td>\n",
       "    </tr>\n",
       "    <tr>\n",
       "      <th>key</th>\n",
       "      <td>0.150061</td>\n",
       "      <td>0.071118</td>\n",
       "      <td>1.000000</td>\n",
       "      <td>0.108619</td>\n",
       "      <td>-0.216639</td>\n",
       "      <td>0.044472</td>\n",
       "      <td>-0.034995</td>\n",
       "      <td>0.002311</td>\n",
       "      <td>0.022268</td>\n",
       "      <td>0.081709</td>\n",
       "      <td>0.029556</td>\n",
       "      <td>-0.002832</td>\n",
       "    </tr>\n",
       "    <tr>\n",
       "      <th>loudness</th>\n",
       "      <td>0.196836</td>\n",
       "      <td>0.718402</td>\n",
       "      <td>0.108619</td>\n",
       "      <td>1.000000</td>\n",
       "      <td>-0.043004</td>\n",
       "      <td>0.192929</td>\n",
       "      <td>-0.577432</td>\n",
       "      <td>-0.417834</td>\n",
       "      <td>0.151395</td>\n",
       "      <td>0.124771</td>\n",
       "      <td>0.266193</td>\n",
       "      <td>0.017773</td>\n",
       "    </tr>\n",
       "    <tr>\n",
       "      <th>mode</th>\n",
       "      <td>0.007778</td>\n",
       "      <td>-0.093618</td>\n",
       "      <td>-0.216639</td>\n",
       "      <td>-0.043004</td>\n",
       "      <td>1.000000</td>\n",
       "      <td>0.056402</td>\n",
       "      <td>0.081294</td>\n",
       "      <td>0.024943</td>\n",
       "      <td>-0.052701</td>\n",
       "      <td>-0.045430</td>\n",
       "      <td>-0.105575</td>\n",
       "      <td>-0.091535</td>\n",
       "    </tr>\n",
       "    <tr>\n",
       "      <th>speechiness</th>\n",
       "      <td>0.137844</td>\n",
       "      <td>0.107803</td>\n",
       "      <td>0.044472</td>\n",
       "      <td>0.192929</td>\n",
       "      <td>0.056402</td>\n",
       "      <td>1.000000</td>\n",
       "      <td>-0.012894</td>\n",
       "      <td>-0.239091</td>\n",
       "      <td>0.139279</td>\n",
       "      <td>0.135194</td>\n",
       "      <td>0.044375</td>\n",
       "      <td>0.008895</td>\n",
       "    </tr>\n",
       "    <tr>\n",
       "      <th>acousticness</th>\n",
       "      <td>-0.109852</td>\n",
       "      <td>-0.710462</td>\n",
       "      <td>-0.034995</td>\n",
       "      <td>-0.577432</td>\n",
       "      <td>0.081294</td>\n",
       "      <td>-0.012894</td>\n",
       "      <td>1.000000</td>\n",
       "      <td>0.134196</td>\n",
       "      <td>-0.077537</td>\n",
       "      <td>-0.016133</td>\n",
       "      <td>-0.210757</td>\n",
       "      <td>-0.235396</td>\n",
       "    </tr>\n",
       "    <tr>\n",
       "      <th>instrumentalness</th>\n",
       "      <td>-0.161783</td>\n",
       "      <td>-0.139067</td>\n",
       "      <td>0.002311</td>\n",
       "      <td>-0.417834</td>\n",
       "      <td>0.024943</td>\n",
       "      <td>-0.239091</td>\n",
       "      <td>0.134196</td>\n",
       "      <td>1.000000</td>\n",
       "      <td>-0.103364</td>\n",
       "      <td>-0.267240</td>\n",
       "      <td>0.011615</td>\n",
       "      <td>0.220608</td>\n",
       "    </tr>\n",
       "    <tr>\n",
       "      <th>liveness</th>\n",
       "      <td>-0.025620</td>\n",
       "      <td>0.127826</td>\n",
       "      <td>0.022268</td>\n",
       "      <td>0.151395</td>\n",
       "      <td>-0.052701</td>\n",
       "      <td>0.139279</td>\n",
       "      <td>-0.077537</td>\n",
       "      <td>-0.103364</td>\n",
       "      <td>1.000000</td>\n",
       "      <td>0.010262</td>\n",
       "      <td>0.023619</td>\n",
       "      <td>-0.105206</td>\n",
       "    </tr>\n",
       "    <tr>\n",
       "      <th>valence</th>\n",
       "      <td>0.353239</td>\n",
       "      <td>0.051657</td>\n",
       "      <td>0.081709</td>\n",
       "      <td>0.124771</td>\n",
       "      <td>-0.045430</td>\n",
       "      <td>0.135194</td>\n",
       "      <td>-0.016133</td>\n",
       "      <td>-0.267240</td>\n",
       "      <td>0.010262</td>\n",
       "      <td>1.000000</td>\n",
       "      <td>0.074202</td>\n",
       "      <td>-0.140635</td>\n",
       "    </tr>\n",
       "    <tr>\n",
       "      <th>tempo</th>\n",
       "      <td>0.069139</td>\n",
       "      <td>0.331624</td>\n",
       "      <td>0.029556</td>\n",
       "      <td>0.266193</td>\n",
       "      <td>-0.105575</td>\n",
       "      <td>0.044375</td>\n",
       "      <td>-0.210757</td>\n",
       "      <td>0.011615</td>\n",
       "      <td>0.023619</td>\n",
       "      <td>0.074202</td>\n",
       "      <td>1.000000</td>\n",
       "      <td>0.113862</td>\n",
       "    </tr>\n",
       "    <tr>\n",
       "      <th>duration_ms</th>\n",
       "      <td>0.039697</td>\n",
       "      <td>0.069790</td>\n",
       "      <td>-0.002832</td>\n",
       "      <td>0.017773</td>\n",
       "      <td>-0.091535</td>\n",
       "      <td>0.008895</td>\n",
       "      <td>-0.235396</td>\n",
       "      <td>0.220608</td>\n",
       "      <td>-0.105206</td>\n",
       "      <td>-0.140635</td>\n",
       "      <td>0.113862</td>\n",
       "      <td>1.000000</td>\n",
       "    </tr>\n",
       "  </tbody>\n",
       "</table>\n",
       "</div>"
      ],
      "text/plain": [
       "                  danceability    energy       key  loudness      mode  \\\n",
       "danceability          1.000000  0.130623  0.150061  0.196836  0.007778   \n",
       "energy                0.130623  1.000000  0.071118  0.718402 -0.093618   \n",
       "key                   0.150061  0.071118  1.000000  0.108619 -0.216639   \n",
       "loudness              0.196836  0.718402  0.108619  1.000000 -0.043004   \n",
       "mode                  0.007778 -0.093618 -0.216639 -0.043004  1.000000   \n",
       "speechiness           0.137844  0.107803  0.044472  0.192929  0.056402   \n",
       "acousticness         -0.109852 -0.710462 -0.034995 -0.577432  0.081294   \n",
       "instrumentalness     -0.161783 -0.139067  0.002311 -0.417834  0.024943   \n",
       "liveness             -0.025620  0.127826  0.022268  0.151395 -0.052701   \n",
       "valence               0.353239  0.051657  0.081709  0.124771 -0.045430   \n",
       "tempo                 0.069139  0.331624  0.029556  0.266193 -0.105575   \n",
       "duration_ms           0.039697  0.069790 -0.002832  0.017773 -0.091535   \n",
       "\n",
       "                  speechiness  acousticness  instrumentalness  liveness  \\\n",
       "danceability         0.137844     -0.109852         -0.161783 -0.025620   \n",
       "energy               0.107803     -0.710462         -0.139067  0.127826   \n",
       "key                  0.044472     -0.034995          0.002311  0.022268   \n",
       "loudness             0.192929     -0.577432         -0.417834  0.151395   \n",
       "mode                 0.056402      0.081294          0.024943 -0.052701   \n",
       "speechiness          1.000000     -0.012894         -0.239091  0.139279   \n",
       "acousticness        -0.012894      1.000000          0.134196 -0.077537   \n",
       "instrumentalness    -0.239091      0.134196          1.000000 -0.103364   \n",
       "liveness             0.139279     -0.077537         -0.103364  1.000000   \n",
       "valence              0.135194     -0.016133         -0.267240  0.010262   \n",
       "tempo                0.044375     -0.210757          0.011615  0.023619   \n",
       "duration_ms          0.008895     -0.235396          0.220608 -0.105206   \n",
       "\n",
       "                   valence     tempo  duration_ms  \n",
       "danceability      0.353239  0.069139     0.039697  \n",
       "energy            0.051657  0.331624     0.069790  \n",
       "key               0.081709  0.029556    -0.002832  \n",
       "loudness          0.124771  0.266193     0.017773  \n",
       "mode             -0.045430 -0.105575    -0.091535  \n",
       "speechiness       0.135194  0.044375     0.008895  \n",
       "acousticness     -0.016133 -0.210757    -0.235396  \n",
       "instrumentalness -0.267240  0.011615     0.220608  \n",
       "liveness          0.010262  0.023619    -0.105206  \n",
       "valence           1.000000  0.074202    -0.140635  \n",
       "tempo             0.074202  1.000000     0.113862  \n",
       "duration_ms      -0.140635  0.113862     1.000000  "
      ]
     },
     "execution_count": 320,
     "metadata": {},
     "output_type": "execute_result"
    }
   ],
   "source": [
    "song_data.corr()"
   ]
  },
  {
   "cell_type": "code",
   "execution_count": null,
   "id": "7be5091d",
   "metadata": {},
   "outputs": [],
   "source": []
  }
 ],
 "metadata": {
  "kernelspec": {
   "display_name": "Python 3 (ipykernel)",
   "language": "python",
   "name": "python3"
  },
  "language_info": {
   "codemirror_mode": {
    "name": "ipython",
    "version": 3
   },
   "file_extension": ".py",
   "mimetype": "text/x-python",
   "name": "python",
   "nbconvert_exporter": "python",
   "pygments_lexer": "ipython3",
   "version": "3.9.12"
  }
 },
 "nbformat": 4,
 "nbformat_minor": 5
}
